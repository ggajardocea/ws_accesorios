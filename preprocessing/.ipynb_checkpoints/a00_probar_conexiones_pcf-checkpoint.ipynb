{
 "cells": [
  {
   "cell_type": "markdown",
   "metadata": {},
   "source": [
    "# Probar conexiones a pcfactory\n",
    "Este script tiene por objetivo mapear las fuentes de inpormación a utilizar y probar las conexiones.\n",
    "Primero cargamos las librerías a utilizar, se van dejando acá aunque uno las descubra a medida que elabora el script.\n",
    "Este script está basado principalmente en [este tutorial](https://www.dataquest.io/blog/web-scraping-beautifulsoup/)"
   ]
  },
  {
   "cell_type": "code",
   "execution_count": 64,
   "metadata": {},
   "outputs": [
    {
     "data": {
      "text/plain": [
       "bs4.BeautifulSoup"
      ]
     },
     "execution_count": 64,
     "metadata": {},
     "output_type": "execute_result"
    }
   ],
   "source": [
    "import pandas as pd\n",
    "import numpy as np\n",
    "import bs4\n",
    "from bs4 import BeautifulSoup\n",
    "html_soup = BeautifulSoup(response.text, 'html.parser')\n",
    "type(html_soup)\n",
    "bs4.BeautifulSoup"
   ]
  },
  {
   "cell_type": "code",
   "execution_count": 62,
   "metadata": {},
   "outputs": [
    {
     "name": "stdout",
     "output_type": "stream",
     "text": [
      "<!DOCTYPE html>\n",
      "<html lang=\"es\"><head itemscope itemtype=\"http://schema.org/WebSite\"><title itemprop=\"name\">Tienda de tecnolog&iacute;a en Chile | PC Factory</title><meta charset=\"UTF-8\"><meta name=\"description\" content=\"PC Factory, tu tienda de computaci&amp;oacute;n y tecnolog&amp;iacute;a en Santiago - Chile. &iexcl;Compra los insumos, accesorios y art&amp;iacute;culos con la mejor calidad y precio que buscas!..\"><meta name=\"keywords\" content=\"\"><meta name=\"viewport\" content=\"width=device-wid\n"
     ]
    }
   ],
   "source": [
    "from requests import get\n",
    "url = 'https://www.pcfactory.cl'\n",
    "response = get(url)\n",
    "print(response.text[:500])"
   ]
  },
  {
   "cell_type": "markdown",
   "metadata": {},
   "source": [
    "## Categorías\n",
    "Como por ahora se trata de un mini estudio de mercado de accesorios, las categorías estudiadas y sus links son solo las siguientes"
   ]
  },
  {
   "cell_type": "code",
   "execution_count": 61,
   "metadata": {},
   "outputs": [
    {
     "name": "stdout",
     "output_type": "stream",
     "text": [
      "              categorias                                               urls\n",
      "0           Access Point  https://www.pcfactory.cl/access-point?categori...\n",
      "1      Extensores de Red  https://www.pcfactory.cl/extensores-de-red?cat...\n",
      "2          Print Servers  https://www.pcfactory.cl/routers?categoria=88&...\n",
      "3                Routers  https://www.pcfactory.cl/switches?categoria=31...\n",
      "4            Routers VPN  https://www.pcfactory.cl/switch-administrables...\n",
      "5               Switches  https://www.pcfactory.cl/tarjetas-de-red-usb?c...\n",
      "6  Switch Administrables  https://www.pcfactory.cl/telefonos-fijos-voip?...\n"
     ]
    }
   ],
   "source": [
    "categorias = ['Access Point', 'Extensores de Red', 'Print Servers', 'Routers', 'Routers VPN', 'Switches', 'Switch Administrables',\n",
    "'Tarjetas de Red / USB', 'Teléfonos fijos/Voip']\n",
    "urls = ['https://www.pcfactory.cl/access-point?categoria=470&papa=634',\n",
    "       'https://www.pcfactory.cl/extensores-de-red?categoria=719&papa=634'\n",
    "       'https://www.pcfactory.cl/print-servers?categoria=320&papa=634',\n",
    "       'https://www.pcfactory.cl/routers?categoria=88&papa=634',\n",
    "       'https://www.pcfactory.cl/switches?categoria=316&papa=634',\n",
    "       'https://www.pcfactory.cl/switch-administrables?categoria=718&papa=634',\n",
    "       'https://www.pcfactory.cl/tarjetas-de-red-usb?categoria=471&papa=634',\n",
    "       'https://www.pcfactory.cl/telefonos-fijos-voip?categoria=429&papa=634']\n",
    "df_pre = list(zip(categorias, urls))\n",
    "df = pd.DataFrame(df_pre, columns=['categorias', \"urls\"])\n",
    "print(df)"
   ]
  },
  {
   "cell_type": "code",
   "execution_count": 60,
   "metadata": {},
   "outputs": [
    {
     "name": "stdout",
     "output_type": "stream",
     "text": [
      "Index(['DateValue', 'asd'], dtype='object')\n",
      "               DateValue                                                asd\n",
      "0           Access Point  https://www.pcfactory.cl/access-point?categori...\n",
      "1      Extensores de Red  https://www.pcfactory.cl/extensores-de-red?cat...\n",
      "2          Print Servers  https://www.pcfactory.cl/routers?categoria=88&...\n",
      "3                Routers  https://www.pcfactory.cl/switches?categoria=31...\n",
      "4            Routers VPN  https://www.pcfactory.cl/switch-administrables...\n",
      "5               Switches  https://www.pcfactory.cl/tarjetas-de-red-usb?c...\n",
      "6  Switch Administrables  https://www.pcfactory.cl/telefonos-fijos-voip?...\n"
     ]
    }
   ],
   "source": []
  }
 ],
 "metadata": {
  "kernelspec": {
   "display_name": "Python 3",
   "language": "python",
   "name": "python3"
  },
  "language_info": {
   "codemirror_mode": {
    "name": "ipython",
    "version": 3
   },
   "file_extension": ".py",
   "mimetype": "text/x-python",
   "name": "python",
   "nbconvert_exporter": "python",
   "pygments_lexer": "ipython3",
   "version": "3.6.1"
  }
 },
 "nbformat": 4,
 "nbformat_minor": 2
}
